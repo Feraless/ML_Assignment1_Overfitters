{
 "cells": [
  {
   "metadata": {
    "ExecuteTime": {
     "end_time": "2024-08-28T06:26:42.489588Z",
     "start_time": "2024-08-28T06:26:42.450072Z"
    }
   },
   "cell_type": "code",
   "source": [
    "import pandas as pd\n",
    "import matplotlib.pyplot as plt\n",
    "import numpy as np\n",
    "import sklearn\n",
    "import os\n",
    "import sys\n",
    "from sklearn.tree import DecisionTreeClassifier"
   ],
   "id": "540ff42f1653486a",
   "outputs": [],
   "execution_count": 23
  },
  {
   "metadata": {
    "ExecuteTime": {
     "end_time": "2024-08-28T06:26:44.807462Z",
     "start_time": "2024-08-28T06:26:44.792629Z"
    }
   },
   "cell_type": "code",
   "source": [
    "dt = DecisionTreeClassifier(criterion=\"gini\", random_state=42,\n",
    "                            splitter=\"best\",\n",
    "                            max_depth=None,\n",
    "                            min_samples_split=2,\n",
    "                            min_samples_leaf=1,\n",
    "                            min_weight_fraction_leaf=0.0,\n",
    "                            max_features=None,\n",
    "                            max_leaf_nodes=None,\n",
    "                            min_impurity_decrease=0.0,\n",
    "                            class_weight=None,\n",
    "                            ccp_alpha=0.0,\n",
    "                            monotonic_cst=None)"
   ],
   "id": "934370aec9352584",
   "outputs": [],
   "execution_count": 24
  },
  {
   "metadata": {
    "ExecuteTime": {
     "end_time": "2024-08-28T06:26:48.438305Z",
     "start_time": "2024-08-28T06:26:48.329268Z"
    }
   },
   "cell_type": "code",
   "source": [
    "df = pd.DataFrame()\n",
    "df_test = pd.DataFrame()\n",
    "dict1 = {\"LAYING\":0,\n",
    "\"SITTING\":1,\n",
    "\"STANDING\":2,\n",
    "\"WALKING\":3,\n",
    "\"WALKING_DOWNSTAIRS\":4,\n",
    "\"WALKING_UPSTAIRS\":5}"
   ],
   "id": "74d1b8e551340747",
   "outputs": [],
   "execution_count": 25
  },
  {
   "metadata": {
    "ExecuteTime": {
     "end_time": "2024-08-28T06:26:55.026916Z",
     "start_time": "2024-08-28T06:26:54.231173Z"
    }
   },
   "cell_type": "code",
   "source": [
    "#Loading the UCI HAR train dataset with raw data from accelerometer\n",
    "dataset_dir=fr\"C:\\Users\\vedan\\Downloads\\human+activity+recognition+using+smartphones\\UCI HAR Dataset\\UCI HAR Dataset\\Combined\\Train\"\n",
    "for files in os.listdir(dataset_dir):\n",
    "    for dfs in os.listdir(os.path.join(dataset_dir, files)):\n",
    "        df1 = pd.read_csv(fr\"{dataset_dir}\\{files}\\{dfs}\")\n",
    "        df1[\"Label\"] = np.array([dict1[files]]*df1.shape[0])\n",
    "        df = pd.concat([df,df1],axis = 0)"
   ],
   "id": "7953c1357f1083f6",
   "outputs": [],
   "execution_count": 26
  },
  {
   "metadata": {
    "ExecuteTime": {
     "end_time": "2024-08-28T06:26:57.602626Z",
     "start_time": "2024-08-28T06:26:57.597493Z"
    }
   },
   "cell_type": "code",
   "source": "df.shape",
   "id": "5ad87e72940e5e2b",
   "outputs": [
    {
     "data": {
      "text/plain": [
       "(470528, 4)"
      ]
     },
     "execution_count": 27,
     "metadata": {},
     "output_type": "execute_result"
    }
   ],
   "execution_count": 27
  },
  {
   "metadata": {
    "ExecuteTime": {
     "end_time": "2024-08-28T06:28:58.134340Z",
     "start_time": "2024-08-28T06:28:58.108733Z"
    }
   },
   "cell_type": "code",
   "source": [
    "X_train = df.drop(\"Label\", axis=1)\n",
    "Y_train = df[\"Label\"]"
   ],
   "id": "ea40fa251ead18a8",
   "outputs": [],
   "execution_count": 29
  },
  {
   "metadata": {
    "ExecuteTime": {
     "end_time": "2024-08-28T06:52:20.458468Z",
     "start_time": "2024-08-28T06:52:17.205763Z"
    }
   },
   "cell_type": "code",
   "source": "dt.fit(X_train, Y_train)",
   "id": "5ba868fcdd4bedb6",
   "outputs": [
    {
     "data": {
      "text/plain": [
       "DecisionTreeClassifier(random_state=42)"
      ],
      "text/html": [
       "<style>#sk-container-id-5 {\n",
       "  /* Definition of color scheme common for light and dark mode */\n",
       "  --sklearn-color-text: black;\n",
       "  --sklearn-color-line: gray;\n",
       "  /* Definition of color scheme for unfitted estimators */\n",
       "  --sklearn-color-unfitted-level-0: #fff5e6;\n",
       "  --sklearn-color-unfitted-level-1: #f6e4d2;\n",
       "  --sklearn-color-unfitted-level-2: #ffe0b3;\n",
       "  --sklearn-color-unfitted-level-3: chocolate;\n",
       "  /* Definition of color scheme for fitted estimators */\n",
       "  --sklearn-color-fitted-level-0: #f0f8ff;\n",
       "  --sklearn-color-fitted-level-1: #d4ebff;\n",
       "  --sklearn-color-fitted-level-2: #b3dbfd;\n",
       "  --sklearn-color-fitted-level-3: cornflowerblue;\n",
       "\n",
       "  /* Specific color for light theme */\n",
       "  --sklearn-color-text-on-default-background: var(--sg-text-color, var(--theme-code-foreground, var(--jp-content-font-color1, black)));\n",
       "  --sklearn-color-background: var(--sg-background-color, var(--theme-background, var(--jp-layout-color0, white)));\n",
       "  --sklearn-color-border-box: var(--sg-text-color, var(--theme-code-foreground, var(--jp-content-font-color1, black)));\n",
       "  --sklearn-color-icon: #696969;\n",
       "\n",
       "  @media (prefers-color-scheme: dark) {\n",
       "    /* Redefinition of color scheme for dark theme */\n",
       "    --sklearn-color-text-on-default-background: var(--sg-text-color, var(--theme-code-foreground, var(--jp-content-font-color1, white)));\n",
       "    --sklearn-color-background: var(--sg-background-color, var(--theme-background, var(--jp-layout-color0, #111)));\n",
       "    --sklearn-color-border-box: var(--sg-text-color, var(--theme-code-foreground, var(--jp-content-font-color1, white)));\n",
       "    --sklearn-color-icon: #878787;\n",
       "  }\n",
       "}\n",
       "\n",
       "#sk-container-id-5 {\n",
       "  color: var(--sklearn-color-text);\n",
       "}\n",
       "\n",
       "#sk-container-id-5 pre {\n",
       "  padding: 0;\n",
       "}\n",
       "\n",
       "#sk-container-id-5 input.sk-hidden--visually {\n",
       "  border: 0;\n",
       "  clip: rect(1px 1px 1px 1px);\n",
       "  clip: rect(1px, 1px, 1px, 1px);\n",
       "  height: 1px;\n",
       "  margin: -1px;\n",
       "  overflow: hidden;\n",
       "  padding: 0;\n",
       "  position: absolute;\n",
       "  width: 1px;\n",
       "}\n",
       "\n",
       "#sk-container-id-5 div.sk-dashed-wrapped {\n",
       "  border: 1px dashed var(--sklearn-color-line);\n",
       "  margin: 0 0.4em 0.5em 0.4em;\n",
       "  box-sizing: border-box;\n",
       "  padding-bottom: 0.4em;\n",
       "  background-color: var(--sklearn-color-background);\n",
       "}\n",
       "\n",
       "#sk-container-id-5 div.sk-container {\n",
       "  /* jupyter's `normalize.less` sets `[hidden] { display: none; }`\n",
       "     but bootstrap.min.css set `[hidden] { display: none !important; }`\n",
       "     so we also need the `!important` here to be able to override the\n",
       "     default hidden behavior on the sphinx rendered scikit-learn.org.\n",
       "     See: https://github.com/scikit-learn/scikit-learn/issues/21755 */\n",
       "  display: inline-block !important;\n",
       "  position: relative;\n",
       "}\n",
       "\n",
       "#sk-container-id-5 div.sk-text-repr-fallback {\n",
       "  display: none;\n",
       "}\n",
       "\n",
       "div.sk-parallel-item,\n",
       "div.sk-serial,\n",
       "div.sk-item {\n",
       "  /* draw centered vertical line to link estimators */\n",
       "  background-image: linear-gradient(var(--sklearn-color-text-on-default-background), var(--sklearn-color-text-on-default-background));\n",
       "  background-size: 2px 100%;\n",
       "  background-repeat: no-repeat;\n",
       "  background-position: center center;\n",
       "}\n",
       "\n",
       "/* Parallel-specific style estimator block */\n",
       "\n",
       "#sk-container-id-5 div.sk-parallel-item::after {\n",
       "  content: \"\";\n",
       "  width: 100%;\n",
       "  border-bottom: 2px solid var(--sklearn-color-text-on-default-background);\n",
       "  flex-grow: 1;\n",
       "}\n",
       "\n",
       "#sk-container-id-5 div.sk-parallel {\n",
       "  display: flex;\n",
       "  align-items: stretch;\n",
       "  justify-content: center;\n",
       "  background-color: var(--sklearn-color-background);\n",
       "  position: relative;\n",
       "}\n",
       "\n",
       "#sk-container-id-5 div.sk-parallel-item {\n",
       "  display: flex;\n",
       "  flex-direction: column;\n",
       "}\n",
       "\n",
       "#sk-container-id-5 div.sk-parallel-item:first-child::after {\n",
       "  align-self: flex-end;\n",
       "  width: 50%;\n",
       "}\n",
       "\n",
       "#sk-container-id-5 div.sk-parallel-item:last-child::after {\n",
       "  align-self: flex-start;\n",
       "  width: 50%;\n",
       "}\n",
       "\n",
       "#sk-container-id-5 div.sk-parallel-item:only-child::after {\n",
       "  width: 0;\n",
       "}\n",
       "\n",
       "/* Serial-specific style estimator block */\n",
       "\n",
       "#sk-container-id-5 div.sk-serial {\n",
       "  display: flex;\n",
       "  flex-direction: column;\n",
       "  align-items: center;\n",
       "  background-color: var(--sklearn-color-background);\n",
       "  padding-right: 1em;\n",
       "  padding-left: 1em;\n",
       "}\n",
       "\n",
       "\n",
       "/* Toggleable style: style used for estimator/Pipeline/ColumnTransformer box that is\n",
       "clickable and can be expanded/collapsed.\n",
       "- Pipeline and ColumnTransformer use this feature and define the default style\n",
       "- Estimators will overwrite some part of the style using the `sk-estimator` class\n",
       "*/\n",
       "\n",
       "/* Pipeline and ColumnTransformer style (default) */\n",
       "\n",
       "#sk-container-id-5 div.sk-toggleable {\n",
       "  /* Default theme specific background. It is overwritten whether we have a\n",
       "  specific estimator or a Pipeline/ColumnTransformer */\n",
       "  background-color: var(--sklearn-color-background);\n",
       "}\n",
       "\n",
       "/* Toggleable label */\n",
       "#sk-container-id-5 label.sk-toggleable__label {\n",
       "  cursor: pointer;\n",
       "  display: block;\n",
       "  width: 100%;\n",
       "  margin-bottom: 0;\n",
       "  padding: 0.5em;\n",
       "  box-sizing: border-box;\n",
       "  text-align: center;\n",
       "}\n",
       "\n",
       "#sk-container-id-5 label.sk-toggleable__label-arrow:before {\n",
       "  /* Arrow on the left of the label */\n",
       "  content: \"▸\";\n",
       "  float: left;\n",
       "  margin-right: 0.25em;\n",
       "  color: var(--sklearn-color-icon);\n",
       "}\n",
       "\n",
       "#sk-container-id-5 label.sk-toggleable__label-arrow:hover:before {\n",
       "  color: var(--sklearn-color-text);\n",
       "}\n",
       "\n",
       "/* Toggleable content - dropdown */\n",
       "\n",
       "#sk-container-id-5 div.sk-toggleable__content {\n",
       "  max-height: 0;\n",
       "  max-width: 0;\n",
       "  overflow: hidden;\n",
       "  text-align: left;\n",
       "  /* unfitted */\n",
       "  background-color: var(--sklearn-color-unfitted-level-0);\n",
       "}\n",
       "\n",
       "#sk-container-id-5 div.sk-toggleable__content.fitted {\n",
       "  /* fitted */\n",
       "  background-color: var(--sklearn-color-fitted-level-0);\n",
       "}\n",
       "\n",
       "#sk-container-id-5 div.sk-toggleable__content pre {\n",
       "  margin: 0.2em;\n",
       "  border-radius: 0.25em;\n",
       "  color: var(--sklearn-color-text);\n",
       "  /* unfitted */\n",
       "  background-color: var(--sklearn-color-unfitted-level-0);\n",
       "}\n",
       "\n",
       "#sk-container-id-5 div.sk-toggleable__content.fitted pre {\n",
       "  /* unfitted */\n",
       "  background-color: var(--sklearn-color-fitted-level-0);\n",
       "}\n",
       "\n",
       "#sk-container-id-5 input.sk-toggleable__control:checked~div.sk-toggleable__content {\n",
       "  /* Expand drop-down */\n",
       "  max-height: 200px;\n",
       "  max-width: 100%;\n",
       "  overflow: auto;\n",
       "}\n",
       "\n",
       "#sk-container-id-5 input.sk-toggleable__control:checked~label.sk-toggleable__label-arrow:before {\n",
       "  content: \"▾\";\n",
       "}\n",
       "\n",
       "/* Pipeline/ColumnTransformer-specific style */\n",
       "\n",
       "#sk-container-id-5 div.sk-label input.sk-toggleable__control:checked~label.sk-toggleable__label {\n",
       "  color: var(--sklearn-color-text);\n",
       "  background-color: var(--sklearn-color-unfitted-level-2);\n",
       "}\n",
       "\n",
       "#sk-container-id-5 div.sk-label.fitted input.sk-toggleable__control:checked~label.sk-toggleable__label {\n",
       "  background-color: var(--sklearn-color-fitted-level-2);\n",
       "}\n",
       "\n",
       "/* Estimator-specific style */\n",
       "\n",
       "/* Colorize estimator box */\n",
       "#sk-container-id-5 div.sk-estimator input.sk-toggleable__control:checked~label.sk-toggleable__label {\n",
       "  /* unfitted */\n",
       "  background-color: var(--sklearn-color-unfitted-level-2);\n",
       "}\n",
       "\n",
       "#sk-container-id-5 div.sk-estimator.fitted input.sk-toggleable__control:checked~label.sk-toggleable__label {\n",
       "  /* fitted */\n",
       "  background-color: var(--sklearn-color-fitted-level-2);\n",
       "}\n",
       "\n",
       "#sk-container-id-5 div.sk-label label.sk-toggleable__label,\n",
       "#sk-container-id-5 div.sk-label label {\n",
       "  /* The background is the default theme color */\n",
       "  color: var(--sklearn-color-text-on-default-background);\n",
       "}\n",
       "\n",
       "/* On hover, darken the color of the background */\n",
       "#sk-container-id-5 div.sk-label:hover label.sk-toggleable__label {\n",
       "  color: var(--sklearn-color-text);\n",
       "  background-color: var(--sklearn-color-unfitted-level-2);\n",
       "}\n",
       "\n",
       "/* Label box, darken color on hover, fitted */\n",
       "#sk-container-id-5 div.sk-label.fitted:hover label.sk-toggleable__label.fitted {\n",
       "  color: var(--sklearn-color-text);\n",
       "  background-color: var(--sklearn-color-fitted-level-2);\n",
       "}\n",
       "\n",
       "/* Estimator label */\n",
       "\n",
       "#sk-container-id-5 div.sk-label label {\n",
       "  font-family: monospace;\n",
       "  font-weight: bold;\n",
       "  display: inline-block;\n",
       "  line-height: 1.2em;\n",
       "}\n",
       "\n",
       "#sk-container-id-5 div.sk-label-container {\n",
       "  text-align: center;\n",
       "}\n",
       "\n",
       "/* Estimator-specific */\n",
       "#sk-container-id-5 div.sk-estimator {\n",
       "  font-family: monospace;\n",
       "  border: 1px dotted var(--sklearn-color-border-box);\n",
       "  border-radius: 0.25em;\n",
       "  box-sizing: border-box;\n",
       "  margin-bottom: 0.5em;\n",
       "  /* unfitted */\n",
       "  background-color: var(--sklearn-color-unfitted-level-0);\n",
       "}\n",
       "\n",
       "#sk-container-id-5 div.sk-estimator.fitted {\n",
       "  /* fitted */\n",
       "  background-color: var(--sklearn-color-fitted-level-0);\n",
       "}\n",
       "\n",
       "/* on hover */\n",
       "#sk-container-id-5 div.sk-estimator:hover {\n",
       "  /* unfitted */\n",
       "  background-color: var(--sklearn-color-unfitted-level-2);\n",
       "}\n",
       "\n",
       "#sk-container-id-5 div.sk-estimator.fitted:hover {\n",
       "  /* fitted */\n",
       "  background-color: var(--sklearn-color-fitted-level-2);\n",
       "}\n",
       "\n",
       "/* Specification for estimator info (e.g. \"i\" and \"?\") */\n",
       "\n",
       "/* Common style for \"i\" and \"?\" */\n",
       "\n",
       ".sk-estimator-doc-link,\n",
       "a:link.sk-estimator-doc-link,\n",
       "a:visited.sk-estimator-doc-link {\n",
       "  float: right;\n",
       "  font-size: smaller;\n",
       "  line-height: 1em;\n",
       "  font-family: monospace;\n",
       "  background-color: var(--sklearn-color-background);\n",
       "  border-radius: 1em;\n",
       "  height: 1em;\n",
       "  width: 1em;\n",
       "  text-decoration: none !important;\n",
       "  margin-left: 1ex;\n",
       "  /* unfitted */\n",
       "  border: var(--sklearn-color-unfitted-level-1) 1pt solid;\n",
       "  color: var(--sklearn-color-unfitted-level-1);\n",
       "}\n",
       "\n",
       ".sk-estimator-doc-link.fitted,\n",
       "a:link.sk-estimator-doc-link.fitted,\n",
       "a:visited.sk-estimator-doc-link.fitted {\n",
       "  /* fitted */\n",
       "  border: var(--sklearn-color-fitted-level-1) 1pt solid;\n",
       "  color: var(--sklearn-color-fitted-level-1);\n",
       "}\n",
       "\n",
       "/* On hover */\n",
       "div.sk-estimator:hover .sk-estimator-doc-link:hover,\n",
       ".sk-estimator-doc-link:hover,\n",
       "div.sk-label-container:hover .sk-estimator-doc-link:hover,\n",
       ".sk-estimator-doc-link:hover {\n",
       "  /* unfitted */\n",
       "  background-color: var(--sklearn-color-unfitted-level-3);\n",
       "  color: var(--sklearn-color-background);\n",
       "  text-decoration: none;\n",
       "}\n",
       "\n",
       "div.sk-estimator.fitted:hover .sk-estimator-doc-link.fitted:hover,\n",
       ".sk-estimator-doc-link.fitted:hover,\n",
       "div.sk-label-container:hover .sk-estimator-doc-link.fitted:hover,\n",
       ".sk-estimator-doc-link.fitted:hover {\n",
       "  /* fitted */\n",
       "  background-color: var(--sklearn-color-fitted-level-3);\n",
       "  color: var(--sklearn-color-background);\n",
       "  text-decoration: none;\n",
       "}\n",
       "\n",
       "/* Span, style for the box shown on hovering the info icon */\n",
       ".sk-estimator-doc-link span {\n",
       "  display: none;\n",
       "  z-index: 9999;\n",
       "  position: relative;\n",
       "  font-weight: normal;\n",
       "  right: .2ex;\n",
       "  padding: .5ex;\n",
       "  margin: .5ex;\n",
       "  width: min-content;\n",
       "  min-width: 20ex;\n",
       "  max-width: 50ex;\n",
       "  color: var(--sklearn-color-text);\n",
       "  box-shadow: 2pt 2pt 4pt #999;\n",
       "  /* unfitted */\n",
       "  background: var(--sklearn-color-unfitted-level-0);\n",
       "  border: .5pt solid var(--sklearn-color-unfitted-level-3);\n",
       "}\n",
       "\n",
       ".sk-estimator-doc-link.fitted span {\n",
       "  /* fitted */\n",
       "  background: var(--sklearn-color-fitted-level-0);\n",
       "  border: var(--sklearn-color-fitted-level-3);\n",
       "}\n",
       "\n",
       ".sk-estimator-doc-link:hover span {\n",
       "  display: block;\n",
       "}\n",
       "\n",
       "/* \"?\"-specific style due to the `<a>` HTML tag */\n",
       "\n",
       "#sk-container-id-5 a.estimator_doc_link {\n",
       "  float: right;\n",
       "  font-size: 1rem;\n",
       "  line-height: 1em;\n",
       "  font-family: monospace;\n",
       "  background-color: var(--sklearn-color-background);\n",
       "  border-radius: 1rem;\n",
       "  height: 1rem;\n",
       "  width: 1rem;\n",
       "  text-decoration: none;\n",
       "  /* unfitted */\n",
       "  color: var(--sklearn-color-unfitted-level-1);\n",
       "  border: var(--sklearn-color-unfitted-level-1) 1pt solid;\n",
       "}\n",
       "\n",
       "#sk-container-id-5 a.estimator_doc_link.fitted {\n",
       "  /* fitted */\n",
       "  border: var(--sklearn-color-fitted-level-1) 1pt solid;\n",
       "  color: var(--sklearn-color-fitted-level-1);\n",
       "}\n",
       "\n",
       "/* On hover */\n",
       "#sk-container-id-5 a.estimator_doc_link:hover {\n",
       "  /* unfitted */\n",
       "  background-color: var(--sklearn-color-unfitted-level-3);\n",
       "  color: var(--sklearn-color-background);\n",
       "  text-decoration: none;\n",
       "}\n",
       "\n",
       "#sk-container-id-5 a.estimator_doc_link.fitted:hover {\n",
       "  /* fitted */\n",
       "  background-color: var(--sklearn-color-fitted-level-3);\n",
       "}\n",
       "</style><div id=\"sk-container-id-5\" class=\"sk-top-container\"><div class=\"sk-text-repr-fallback\"><pre>DecisionTreeClassifier(random_state=42)</pre><b>In a Jupyter environment, please rerun this cell to show the HTML representation or trust the notebook. <br />On GitHub, the HTML representation is unable to render, please try loading this page with nbviewer.org.</b></div><div class=\"sk-container\" hidden><div class=\"sk-item\"><div class=\"sk-estimator fitted sk-toggleable\"><input class=\"sk-toggleable__control sk-hidden--visually\" id=\"sk-estimator-id-5\" type=\"checkbox\" checked><label for=\"sk-estimator-id-5\" class=\"sk-toggleable__label fitted sk-toggleable__label-arrow fitted\">&nbsp;&nbsp;DecisionTreeClassifier<a class=\"sk-estimator-doc-link fitted\" rel=\"noreferrer\" target=\"_blank\" href=\"https://scikit-learn.org/1.5/modules/generated/sklearn.tree.DecisionTreeClassifier.html\">?<span>Documentation for DecisionTreeClassifier</span></a><span class=\"sk-estimator-doc-link fitted\">i<span>Fitted</span></span></label><div class=\"sk-toggleable__content fitted\"><pre>DecisionTreeClassifier(random_state=42)</pre></div> </div></div></div></div>"
      ]
     },
     "execution_count": 45,
     "metadata": {},
     "output_type": "execute_result"
    }
   ],
   "execution_count": 45
  },
  {
   "metadata": {
    "ExecuteTime": {
     "end_time": "2024-08-28T06:29:26.453865Z",
     "start_time": "2024-08-28T06:29:26.226679Z"
    }
   },
   "cell_type": "code",
   "source": [
    "#Loading the UCI HAR test dataset with raw data from accelerometer\n",
    "dataset_dir = fr\"C:\\Users\\vedan\\Downloads\\human+activity+recognition+using+smartphones\\UCI HAR Dataset\\UCI HAR Dataset\\Combined\\Test\"\n",
    "for files in os.listdir(dataset_dir):\n",
    "    for dfs in os.listdir(os.path.join(dataset_dir, files)):\n",
    "        df1 = pd.read_csv(fr\"{dataset_dir}\\{files}\\{dfs}\")\n",
    "        df1[\"Label\"] = np.array([dict1[files]] * df1.shape[0])\n",
    "        df_test = pd.concat([df_test, df1], axis=0)"
   ],
   "id": "9c783bd0aafe5815",
   "outputs": [],
   "execution_count": 31
  },
  {
   "metadata": {
    "ExecuteTime": {
     "end_time": "2024-08-28T06:29:29.214726Z",
     "start_time": "2024-08-28T06:29:29.207055Z"
    }
   },
   "cell_type": "code",
   "source": "df_test.shape",
   "id": "ed88ba8a470402d4",
   "outputs": [
    {
     "data": {
      "text/plain": [
       "(188608, 4)"
      ]
     },
     "execution_count": 32,
     "metadata": {},
     "output_type": "execute_result"
    }
   ],
   "execution_count": 32
  },
  {
   "metadata": {
    "ExecuteTime": {
     "end_time": "2024-08-28T06:52:23.839024Z",
     "start_time": "2024-08-28T06:52:23.784685Z"
    }
   },
   "cell_type": "code",
   "source": [
    "# Making prediction on UCI HAR test dataset\n",
    "predictions = dt.predict(df_test.drop(\"Label\", axis = 1))"
   ],
   "id": "3b104fb18b76673f",
   "outputs": [],
   "execution_count": 46
  },
  {
   "metadata": {
    "ExecuteTime": {
     "end_time": "2024-08-28T06:52:28.075714Z",
     "start_time": "2024-08-28T06:52:28.018746Z"
    }
   },
   "cell_type": "code",
   "source": "from sklearn.metrics import accuracy_score, precision_score, recall_score, confusion_matrix",
   "id": "1e57b3d183bd703a",
   "outputs": [],
   "execution_count": null
  },
  {
   "metadata": {},
   "cell_type": "code",
   "outputs": [
    {
     "name": "stdout",
     "output_type": "stream",
     "text": [
      "Accuracy: 0.5628022141160502\n",
      "Precision: 0.5512171505744833\n",
      "Recall: 0.5628022141160502\n",
      "Confusion Matrix:\n",
      "[[34278     0     0     0     0     3]\n",
      " [    0 19633  5112   350   234   232]\n",
      " [    0  5223 16564   967   482   714]\n",
      " [    1  2214  4984 12945  9046 10315]\n",
      " [   88  2183  1907  8992 10982  7133]\n",
      " [    1  2171  5481  8490  6136 11747]]\n"
     ]
    }
   ],
   "execution_count": 47,
   "source": [
    "\n",
    "accuracy = accuracy_score(predictions, df_test[\"Label\"])\n",
    "print(f\"Accuracy: {accuracy}\")\n",
    "precision = precision_score(predictions, df_test[\"Label\"], average=\"weighted\")\n",
    "print(f\"Precision: {precision}\")\n",
    "recall = recall_score(predictions, df_test[\"Label\"], average=\"weighted\")\n",
    "print(f\"Recall: {recall}\")\n",
    "mat = confusion_matrix(predictions, df_test[\"Label\"])\n",
    "print(f\"Confusion Matrix:\\n{mat}\")\n"
   ],
   "id": "2794eb93a23b793a"
  },
  {
   "metadata": {
    "ExecuteTime": {
     "end_time": "2024-08-28T06:31:11.156923Z",
     "start_time": "2024-08-28T06:31:11.113615Z"
    }
   },
   "cell_type": "code",
   "source": [
    "# Loading the collected data\n",
    "\n",
    "# Save the current working directory\n",
    "original_cwd = os.getcwd()\n",
    "\n",
    "# Change to the directory containing the Make_collected_dataset.py file\n",
    "os.chdir(os.path.abspath(r\"C:\\Users\\vedan\\Downloads\\human+activity+recognition+using+smartphones\\Collected Data\"))\n",
    "\n",
    "# Add the \"Collected Data\" directory to sys.path\n",
    "sys.path.append(os.getcwd())\n",
    "\n",
    "from Make_collected_dataset import X, Y\n",
    "\n",
    "# Reset the working directory\n",
    "os.chdir(original_cwd)\n"
   ],
   "id": "776e3077b5688e2e",
   "outputs": [
    {
     "name": "stdout",
     "output_type": "stream",
     "text": [
      "(24, 500, 3)\n",
      "(24,)\n"
     ]
    }
   ],
   "execution_count": 37
  },
  {
   "metadata": {
    "ExecuteTime": {
     "end_time": "2024-08-28T06:31:14.627431Z",
     "start_time": "2024-08-28T06:31:14.614780Z"
    }
   },
   "cell_type": "code",
   "source": "X.shape",
   "id": "93f251504dcddc1a",
   "outputs": [
    {
     "data": {
      "text/plain": [
       "(24, 500, 3)"
      ]
     },
     "execution_count": 38,
     "metadata": {},
     "output_type": "execute_result"
    }
   ],
   "execution_count": 38
  },
  {
   "metadata": {
    "ExecuteTime": {
     "end_time": "2024-08-28T06:52:54.183987Z",
     "start_time": "2024-08-28T06:52:54.169367Z"
    }
   },
   "cell_type": "code",
   "source": "X_collected= X.reshape(-1, 3)",
   "id": "c5bab7a08fb7c4a4",
   "outputs": [],
   "execution_count": 49
  },
  {
   "metadata": {
    "ExecuteTime": {
     "end_time": "2024-08-26T13:32:31.429599Z",
     "start_time": "2024-08-26T13:32:31.418067Z"
    }
   },
   "cell_type": "code",
   "source": "X_collected.shape",
   "id": "5c6623fbb3416043",
   "outputs": [
    {
     "data": {
      "text/plain": [
       "(12000, 3)"
      ]
     },
     "execution_count": 83,
     "metadata": {},
     "output_type": "execute_result"
    }
   ],
   "execution_count": 83
  },
  {
   "metadata": {
    "ExecuteTime": {
     "end_time": "2024-08-28T06:53:05.169579Z",
     "start_time": "2024-08-28T06:53:05.159917Z"
    }
   },
   "cell_type": "code",
   "source": "X_collected=pd.DataFrame(X_collected, columns=[\"accx\", \"accy\", \"accz\"])",
   "id": "958e0731dad636b4",
   "outputs": [],
   "execution_count": 51
  },
  {
   "metadata": {
    "ExecuteTime": {
     "end_time": "2024-08-28T06:53:51.958029Z",
     "start_time": "2024-08-28T06:53:51.944939Z"
    }
   },
   "cell_type": "code",
   "source": [
    "Y_collected=[]\n",
    "for i in range(24):\n",
    "    Y_collected.extend([Y[i]] * 500)\n",
    "Y_collected=np.array(Y_collected)"
   ],
   "id": "c89c9195c2bdf794",
   "outputs": [],
   "execution_count": 54
  },
  {
   "metadata": {
    "ExecuteTime": {
     "end_time": "2024-08-28T06:53:54.214360Z",
     "start_time": "2024-08-28T06:53:54.197107Z"
    }
   },
   "cell_type": "code",
   "source": "Y_collected.shape",
   "id": "80fe0ec7545c4248",
   "outputs": [
    {
     "data": {
      "text/plain": [
       "(12000,)"
      ]
     },
     "execution_count": 55,
     "metadata": {},
     "output_type": "execute_result"
    }
   ],
   "execution_count": 55
  },
  {
   "metadata": {
    "ExecuteTime": {
     "end_time": "2024-08-28T06:53:07.709137Z",
     "start_time": "2024-08-28T06:53:07.698538Z"
    }
   },
   "cell_type": "code",
   "source": [
    "# Making prediction on collected dataset using tree trained on UCI HAR dataset\n",
    "predictions2 = dt.predict(X_collected)"
   ],
   "id": "224f3210e8288d2c",
   "outputs": [],
   "execution_count": 52
  },
  {
   "metadata": {
    "ExecuteTime": {
     "end_time": "2024-08-28T06:53:57.358848Z",
     "start_time": "2024-08-28T06:53:57.335114Z"
    }
   },
   "cell_type": "code",
   "source": [
    "\n",
    "accuracy = accuracy_score(predictions2, Y_collected)\n",
    "print(f\"Accuracy: {accuracy}\")\n",
    "precision = precision_score(predictions2, Y_collected, average=\"weighted\")\n",
    "print(f\"Precision: {precision}\")\n",
    "recall = recall_score(predictions2, Y_collected, average=\"weighted\")\n",
    "print(f\"Recall: {recall}\")\n",
    "\n",
    "mat2 = confusion_matrix(predictions2, Y_collected)\n",
    "print(f\"Confusion Matrix:\\n{mat2}\")"
   ],
   "id": "1f474ccadb064f87",
   "outputs": [
    {
     "name": "stdout",
     "output_type": "stream",
     "text": [
      "Accuracy: 0.16991666666666666\n",
      "Precision: 0.48228979166666675\n",
      "Recall: 0.16991666666666666\n",
      "Confusion Matrix:\n",
      "[[   0  941  765 1033   85  332   71]\n",
      " [   0  112  181   99    0    2    0]\n",
      " [   0    0    0    0    0    0    0]\n",
      " [   0  175  248  157  170  164  211]\n",
      " [   0  545  545  503 1739 1471 1713]\n",
      " [   0  227  261  208    6   31    5]\n",
      " [   0    0    0    0    0    0    0]]\n"
     ]
    },
    {
     "name": "stderr",
     "output_type": "stream",
     "text": [
      "C:\\Users\\vedan\\AppData\\Roaming\\Python\\Python312\\site-packages\\sklearn\\metrics\\_classification.py:1531: UndefinedMetricWarning: Precision is ill-defined and being set to 0.0 in labels with no predicted samples. Use `zero_division` parameter to control this behavior.\n",
      "  _warn_prf(average, modifier, f\"{metric.capitalize()} is\", len(result))\n",
      "C:\\Users\\vedan\\AppData\\Roaming\\Python\\Python312\\site-packages\\sklearn\\metrics\\_classification.py:1531: UndefinedMetricWarning: Recall is ill-defined and being set to 0.0 in labels with no true samples. Use `zero_division` parameter to control this behavior.\n",
      "  _warn_prf(average, modifier, f\"{metric.capitalize()} is\", len(result))\n"
     ]
    }
   ],
   "execution_count": 56
  },
  {
   "metadata": {
    "ExecuteTime": {
     "end_time": "2024-08-28T06:55:49.332107Z",
     "start_time": "2024-08-28T06:55:49.253464Z"
    }
   },
   "cell_type": "code",
   "source": [
    "# Loading TSFEL featurised data of UCI HAR Dataset\n",
    "Xtrain_tsfel = pd.read_csv(fr\"UCI HAR Dataset\\X_train_tsfel.csv\")\n",
    "Ytrain_tsfel = pd.read_csv(fr\"UCI HAR Dataset\\y_train_tsfel.csv\",header = None)\n",
    "Xtest_tsfel = pd.read_csv(fr\"UCI HAR Dataset\\X_test_tsfel.csv\")\n",
    "Ytest_tsfel = pd.read_csv(fr\"UCI HAR Dataset\\y_test_tsfel.csv\",header= None)"
   ],
   "id": "efaff78aee0c8236",
   "outputs": [],
   "execution_count": 57
  },
  {
   "metadata": {
    "ExecuteTime": {
     "end_time": "2024-08-28T07:01:29.127202Z",
     "start_time": "2024-08-28T07:01:29.070955Z"
    }
   },
   "cell_type": "code",
   "source": [
    "#Making prediction on TSFEL featurised test data of UCI HAR Dataset\n",
    "dt.fit(Xtrain_tsfel, Ytrain_tsfel)\n",
    "predictions3 = dt.predict(Xtest_tsfel)"
   ],
   "id": "9d314881982f02f6",
   "outputs": [],
   "execution_count": 65
  },
  {
   "metadata": {
    "ExecuteTime": {
     "end_time": "2024-08-28T07:00:57.002377Z",
     "start_time": "2024-08-28T07:00:56.989895Z"
    }
   },
   "cell_type": "code",
   "source": [
    "accuracy = accuracy_score(predictions3, Ytest_tsfel)\n",
    "print(f\"Accuracy: {accuracy}\")\n",
    "\n",
    "precision = precision_score(predictions3, Ytest_tsfel,average=\"weighted\")\n",
    "print(f\"Precision: {precision}\")\n",
    "\n",
    "recall = recall_score(predictions3, Ytest_tsfel,average=\"weighted\")\n",
    "print(f\"Recall: {recall}\")\n",
    "\n",
    "mat3 = confusion_matrix(predictions3, Ytest_tsfel)\n",
    "print(f\"Confusion Matrix:\\n{mat3}\")"
   ],
   "id": "133d9ebba65fa3c3",
   "outputs": [
    {
     "name": "stdout",
     "output_type": "stream",
     "text": [
      "Accuracy: 0.8888888888888888\n",
      "Precision: 0.897119341563786\n",
      "Recall: 0.8888888888888888\n",
      "Confusion Matrix:\n",
      "[[6 1 0 0 0 0]\n",
      " [1 8 2 0 0 0]\n",
      " [2 0 7 0 0 0]\n",
      " [0 0 0 9 0 0]\n",
      " [0 0 0 0 9 0]\n",
      " [0 0 0 0 0 9]]\n"
     ]
    }
   ],
   "execution_count": 64
  },
  {
   "metadata": {
    "ExecuteTime": {
     "end_time": "2024-08-28T06:58:47.336273Z",
     "start_time": "2024-08-28T06:58:47.301317Z"
    }
   },
   "cell_type": "code",
   "source": [
    "# Loading TSFEL featurised data of Collected Dataset\n",
    "Xcollected_tsfel = pd.read_csv(fr\"Collected Data\\X_collected_tsfel.csv\")\n",
    "Ycollected_tsfel = pd.read_csv(fr\"Collected Data\\y_collected_tsfel.csv\",header = None)"
   ],
   "id": "9c109c1699efa0f5",
   "outputs": [],
   "execution_count": 61
  },
  {
   "metadata": {
    "ExecuteTime": {
     "end_time": "2024-08-28T07:01:38.672602Z",
     "start_time": "2024-08-28T07:01:38.654546Z"
    }
   },
   "cell_type": "code",
   "source": [
    "#Making prediction on TSFEL featurised collected data using tree trained on tsfel featurised UCI HAR dataset \n",
    "predictions4 = dt.predict(Xcollected_tsfel)"
   ],
   "id": "4cdf9d25801a2cfc",
   "outputs": [],
   "execution_count": 66
  },
  {
   "metadata": {
    "ExecuteTime": {
     "end_time": "2024-08-28T07:01:41.355035Z",
     "start_time": "2024-08-28T07:01:41.339253Z"
    }
   },
   "cell_type": "code",
   "source": [
    "accuracy = accuracy_score(predictions4, Ycollected_tsfel)\n",
    "print(f\"Accuracy: {accuracy}\")\n",
    "\n",
    "precision = precision_score(predictions4, Ycollected_tsfel, average=\"weighted\")\n",
    "print(f\"Precision: {precision}\")\n",
    "\n",
    "recall = recall_score(predictions4, Ycollected_tsfel, average=\"weighted\")\n",
    "print(f\"Recall: {recall}\")\n",
    "\n",
    "mat4 = confusion_matrix(predictions4, Ycollected_tsfel)\n",
    "print(f\"Confusion Matrix:\\n{mat4}\")"
   ],
   "id": "75760d59a1dda5ac",
   "outputs": [
    {
     "name": "stdout",
     "output_type": "stream",
     "text": [
      "Accuracy: 0.20833333333333334\n",
      "Precision: 0.8020833333333334\n",
      "Recall: 0.20833333333333334\n",
      "Confusion Matrix:\n",
      "[[0 0 0 0 0 0]\n",
      " [0 0 0 0 0 0]\n",
      " [0 0 0 0 0 0]\n",
      " [0 0 0 1 0 0]\n",
      " [2 1 1 0 0 0]\n",
      " [2 3 3 3 4 4]]\n"
     ]
    },
    {
     "name": "stderr",
     "output_type": "stream",
     "text": [
      "C:\\Users\\vedan\\AppData\\Roaming\\Python\\Python312\\site-packages\\sklearn\\metrics\\_classification.py:1531: UndefinedMetricWarning: Recall is ill-defined and being set to 0.0 in labels with no true samples. Use `zero_division` parameter to control this behavior.\n",
      "  _warn_prf(average, modifier, f\"{metric.capitalize()} is\", len(result))\n"
     ]
    }
   ],
   "execution_count": 67
  },
  {
   "metadata": {},
   "cell_type": "markdown",
   "source": [
    "The Model was first trained on raw accelerometer data of UCI HAR Dataset and used to make predictions on the collected data where it got 17% accuracy with a precision of 48% and recall 17%.\n",
    "Then it was trained on TSFEL featurised UCI HAR Dataset and used to make predictions on the TSFEL featurised collected data where it got 20% accuracy with a precision of 80% and recall 20%.\n",
    "Possible reasons for the accuracy scores could be different orientation of the accelerometer in the UCI experiment and during our data collection, accelerometer senstivities, preprocessing used. "
   ],
   "id": "100b444a17dc906d"
  }
 ],
 "metadata": {
  "kernelspec": {
   "display_name": "Python 3",
   "language": "python",
   "name": "python3"
  },
  "language_info": {
   "codemirror_mode": {
    "name": "ipython",
    "version": 2
   },
   "file_extension": ".py",
   "mimetype": "text/x-python",
   "name": "python",
   "nbconvert_exporter": "python",
   "pygments_lexer": "ipython2",
   "version": "2.7.6"
  }
 },
 "nbformat": 4,
 "nbformat_minor": 5
}
