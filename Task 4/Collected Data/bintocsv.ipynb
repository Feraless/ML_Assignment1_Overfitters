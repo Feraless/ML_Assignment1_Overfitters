{
 "cells": [
  {
   "cell_type": "code",
   "execution_count": 9,
   "id": "c75a0da5d2c9f060",
   "metadata": {
    "ExecuteTime": {
     "end_time": "2024-08-22T10:27:27.429938Z",
     "start_time": "2024-08-22T10:27:27.427430Z"
    }
   },
   "outputs": [],
   "source": [
    "import os\n",
    "import glob\n",
    "import csv"
   ]
  },
  {
   "cell_type": "code",
   "execution_count": 21,
   "id": "8713db20005d97fc",
   "metadata": {
    "ExecuteTime": {
     "end_time": "2024-08-22T14:40:55.582831Z",
     "start_time": "2024-08-22T14:40:55.569456Z"
    }
   },
   "outputs": [],
   "source": [
    "def bin_to_csv(bin_file, csv_file):\n",
    "    with open(bin_file, 'rb') as bf:\n",
    "        \n",
    "        content = bf.read().decode('utf-8')\n",
    "\n",
    "        lines = content.splitlines()\n",
    "\n",
    "        with open(csv_file, 'w', newline='') as cf:\n",
    "            writer = csv.writer(cf)\n",
    "\n",
    "            for line in lines:\n",
    "                \n",
    "                row = line.split(',')\n",
    "                writer.writerow(row)"
   ]
  },
  {
   "cell_type": "code",
   "execution_count": 3,
   "id": "80e3b3756d748a9f",
   "metadata": {},
   "outputs": [],
   "source": [
    "def process_all_bin_files(input_folder, output_folder):\n",
    "    \n",
    "    os.makedirs(output_folder, exist_ok=True)\n",
    "    bin_files = glob.glob(os.path.join(input_folder, '*.bin'))\n",
    "\n",
    "    for bin_file in bin_files:\n",
    "        \n",
    "        base_name = os.path.basename(bin_file) \n",
    "        csv_file = os.path.join(output_folder, f'{os.path.splitext(base_name)[0]}.csv')\n",
    "\n",
    "        bin_to_csv(bin_file, csv_file)\n",
    "        print(f'Converted {bin_file} to {csv_file}')\n"
   ]
  },
  {
   "cell_type": "code",
   "execution_count": 23,
   "id": "2ef1f33e63f3def",
   "metadata": {},
   "outputs": [
    {
     "name": "stdout",
     "output_type": "stream",
     "text": [
      "Converted C:\\Users\\vedan\\Downloads\\human+activity+recognition+using+smartphones\\Collected Data\\bin files\\Climbing_down_1.bin to C:\\Users\\vedan\\Downloads\\human+activity+recognition+using+smartphones\\Collected Data\\Csv files\\Climbing_down_1.csv\n",
      "Converted C:\\Users\\vedan\\Downloads\\human+activity+recognition+using+smartphones\\Collected Data\\bin files\\Climbing_down_2.bin to C:\\Users\\vedan\\Downloads\\human+activity+recognition+using+smartphones\\Collected Data\\Csv files\\Climbing_down_2.csv\n",
      "Converted C:\\Users\\vedan\\Downloads\\human+activity+recognition+using+smartphones\\Collected Data\\bin files\\Climbing_down_3.bin to C:\\Users\\vedan\\Downloads\\human+activity+recognition+using+smartphones\\Collected Data\\Csv files\\Climbing_down_3.csv\n",
      "Converted C:\\Users\\vedan\\Downloads\\human+activity+recognition+using+smartphones\\Collected Data\\bin files\\Climbing_down_4.bin to C:\\Users\\vedan\\Downloads\\human+activity+recognition+using+smartphones\\Collected Data\\Csv files\\Climbing_down_4.csv\n",
      "Converted C:\\Users\\vedan\\Downloads\\human+activity+recognition+using+smartphones\\Collected Data\\bin files\\Climbing_up_1.bin to C:\\Users\\vedan\\Downloads\\human+activity+recognition+using+smartphones\\Collected Data\\Csv files\\Climbing_up_1.csv\n",
      "Converted C:\\Users\\vedan\\Downloads\\human+activity+recognition+using+smartphones\\Collected Data\\bin files\\climbing_up_2.bin to C:\\Users\\vedan\\Downloads\\human+activity+recognition+using+smartphones\\Collected Data\\Csv files\\climbing_up_2.csv\n",
      "Converted C:\\Users\\vedan\\Downloads\\human+activity+recognition+using+smartphones\\Collected Data\\bin files\\Climbing_up_3.bin to C:\\Users\\vedan\\Downloads\\human+activity+recognition+using+smartphones\\Collected Data\\Csv files\\Climbing_up_3.csv\n",
      "Converted C:\\Users\\vedan\\Downloads\\human+activity+recognition+using+smartphones\\Collected Data\\bin files\\Climbing_up_4.bin to C:\\Users\\vedan\\Downloads\\human+activity+recognition+using+smartphones\\Collected Data\\Csv files\\Climbing_up_4.csv\n",
      "Converted C:\\Users\\vedan\\Downloads\\human+activity+recognition+using+smartphones\\Collected Data\\bin files\\Laying_1.bin to C:\\Users\\vedan\\Downloads\\human+activity+recognition+using+smartphones\\Collected Data\\Csv files\\Laying_1.csv\n",
      "Converted C:\\Users\\vedan\\Downloads\\human+activity+recognition+using+smartphones\\Collected Data\\bin files\\Laying_2.bin to C:\\Users\\vedan\\Downloads\\human+activity+recognition+using+smartphones\\Collected Data\\Csv files\\Laying_2.csv\n",
      "Converted C:\\Users\\vedan\\Downloads\\human+activity+recognition+using+smartphones\\Collected Data\\bin files\\Laying_3.bin to C:\\Users\\vedan\\Downloads\\human+activity+recognition+using+smartphones\\Collected Data\\Csv files\\Laying_3.csv\n",
      "Converted C:\\Users\\vedan\\Downloads\\human+activity+recognition+using+smartphones\\Collected Data\\bin files\\Laying_4.bin to C:\\Users\\vedan\\Downloads\\human+activity+recognition+using+smartphones\\Collected Data\\Csv files\\Laying_4.csv\n",
      "Converted C:\\Users\\vedan\\Downloads\\human+activity+recognition+using+smartphones\\Collected Data\\bin files\\Sitting_1.bin to C:\\Users\\vedan\\Downloads\\human+activity+recognition+using+smartphones\\Collected Data\\Csv files\\Sitting_1.csv\n",
      "Converted C:\\Users\\vedan\\Downloads\\human+activity+recognition+using+smartphones\\Collected Data\\bin files\\Sitting_2.bin to C:\\Users\\vedan\\Downloads\\human+activity+recognition+using+smartphones\\Collected Data\\Csv files\\Sitting_2.csv\n",
      "Converted C:\\Users\\vedan\\Downloads\\human+activity+recognition+using+smartphones\\Collected Data\\bin files\\Sitting_3.bin to C:\\Users\\vedan\\Downloads\\human+activity+recognition+using+smartphones\\Collected Data\\Csv files\\Sitting_3.csv\n",
      "Converted C:\\Users\\vedan\\Downloads\\human+activity+recognition+using+smartphones\\Collected Data\\bin files\\Sitting_4.bin to C:\\Users\\vedan\\Downloads\\human+activity+recognition+using+smartphones\\Collected Data\\Csv files\\Sitting_4.csv\n",
      "Converted C:\\Users\\vedan\\Downloads\\human+activity+recognition+using+smartphones\\Collected Data\\bin files\\Standing_1.bin to C:\\Users\\vedan\\Downloads\\human+activity+recognition+using+smartphones\\Collected Data\\Csv files\\Standing_1.csv\n",
      "Converted C:\\Users\\vedan\\Downloads\\human+activity+recognition+using+smartphones\\Collected Data\\bin files\\Standing_2.bin to C:\\Users\\vedan\\Downloads\\human+activity+recognition+using+smartphones\\Collected Data\\Csv files\\Standing_2.csv\n",
      "Converted C:\\Users\\vedan\\Downloads\\human+activity+recognition+using+smartphones\\Collected Data\\bin files\\Standing_3.bin to C:\\Users\\vedan\\Downloads\\human+activity+recognition+using+smartphones\\Collected Data\\Csv files\\Standing_3.csv\n",
      "Converted C:\\Users\\vedan\\Downloads\\human+activity+recognition+using+smartphones\\Collected Data\\bin files\\Standing_4.bin to C:\\Users\\vedan\\Downloads\\human+activity+recognition+using+smartphones\\Collected Data\\Csv files\\Standing_4.csv\n",
      "Converted C:\\Users\\vedan\\Downloads\\human+activity+recognition+using+smartphones\\Collected Data\\bin files\\Walking_1.bin to C:\\Users\\vedan\\Downloads\\human+activity+recognition+using+smartphones\\Collected Data\\Csv files\\Walking_1.csv\n",
      "Converted C:\\Users\\vedan\\Downloads\\human+activity+recognition+using+smartphones\\Collected Data\\bin files\\Walking_2.bin to C:\\Users\\vedan\\Downloads\\human+activity+recognition+using+smartphones\\Collected Data\\Csv files\\Walking_2.csv\n",
      "Converted C:\\Users\\vedan\\Downloads\\human+activity+recognition+using+smartphones\\Collected Data\\bin files\\Walking_3.bin to C:\\Users\\vedan\\Downloads\\human+activity+recognition+using+smartphones\\Collected Data\\Csv files\\Walking_3.csv\n",
      "Converted C:\\Users\\vedan\\Downloads\\human+activity+recognition+using+smartphones\\Collected Data\\bin files\\Walking_4.bin to C:\\Users\\vedan\\Downloads\\human+activity+recognition+using+smartphones\\Collected Data\\Csv files\\Walking_4.csv\n"
     ]
    }
   ],
   "source": [
    "input_folder = r\"C:\\Users\\vedan\\Downloads\\human+activity+recognition+using+smartphones\\Collected Data\\bin files\" \n",
    "output_folder = r\"C:\\Users\\vedan\\Downloads\\human+activity+recognition+using+smartphones\\Collected Data\\Csv files\"\n",
    "\n",
    "process_all_bin_files(input_folder, output_folder)\n"
   ]
  }
 ],
 "metadata": {
  "kernelspec": {
   "display_name": "Python 3",
   "language": "python",
   "name": "python3"
  },
  "language_info": {
   "codemirror_mode": {
    "name": "ipython",
    "version": 2
   },
   "file_extension": ".py",
   "mimetype": "text/x-python",
   "name": "python",
   "nbconvert_exporter": "python",
   "pygments_lexer": "ipython2",
   "version": "2.7.6"
  }
 },
 "nbformat": 4,
 "nbformat_minor": 5
}
